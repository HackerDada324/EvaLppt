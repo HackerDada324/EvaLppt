{
 "cells": [
  {
   "cell_type": "code",
   "execution_count": 1,
   "metadata": {},
   "outputs": [
    {
     "name": "stderr",
     "output_type": "stream",
     "text": [
      "Processing video: 100%|██████████| 16990/16990 [04:06<00:00, 68.91it/s]"
     ]
    },
    {
     "name": "stdout",
     "output_type": "stream",
     "text": [
      "\n",
      "Body Alignment Analysis Complete for C:\\Users\\jitro\\Downloads\\videoplayback.mp4\n",
      "- Duration: 566.90 seconds\n",
      "- Video FPS: 29.97, Target FPS: 2.00 (sampling rate: 1/15)\n",
      "- Frames processed: 1083/16990 (95.62%)\n",
      "- Average tilt angle: 4.46° ± 5.03°\n",
      "- Dominant tilt direction: left\n",
      "- Stability score: 5.03 (lower is more stable)\n",
      "- Processing time: 246.58 seconds (68.90 FPS)\n",
      "Mean tilt angle: 4.463651719848688\n",
      "Dominant direction: left\n",
      "Stability score: 5.025651560439937\n",
      "Direction left: 50.97%\n",
      "Direction none: 4.34%\n",
      "Direction right: 44.69%\n"
     ]
    },
    {
     "name": "stderr",
     "output_type": "stream",
     "text": [
      "\n"
     ]
    }
   ],
   "source": [
    "# Import the analyzer\n",
    "from video_analysis.motion_analyzer.body_motion import BodyMotionAnalyzer\n",
    "\n",
    "analyzer = BodyMotionAnalyzer(min_detection_confidence=0.7, tilt_threshold=5)\n",
    "\n",
    "# Process a video file\n",
    "video_path = r\"C:\\Users\\jitro\\Downloads\\videoplayback.mp4\"\n",
    "stats = analyzer.process_video(\n",
    "    video_path=video_path,\n",
    "    target_fps=2, \n",
    "    show_progress=True\n",
    ")\n",
    "\n",
    "# Work with the returned stats\n",
    "if stats:\n",
    "    # Access various statistics\n",
    "    print(f\"Mean tilt angle: {stats.mean_angle}\")\n",
    "    print(f\"Dominant direction: {stats.dominant_direction}\")\n",
    "    print(f\"Stability score: {stats.stability_score}\")\n",
    "    \n",
    "    # You can access all the properties of the VideoAnalysisStats object\n",
    "    # For example, direction percentages\n",
    "    for direction, percentage in stats.direction_percentages.items():\n",
    "        print(f\"Direction {direction}: {percentage:.2f}%\")"
   ]
  },
  {
   "cell_type": "code",
   "execution_count": 1,
   "metadata": {},
   "outputs": [
    {
     "name": "stderr",
     "output_type": "stream",
     "text": [
      "Processing video: 100%|██████████| 16990/16990 [00:27<00:00, 616.30it/s]"
     ]
    },
    {
     "name": "stdout",
     "output_type": "stream",
     "text": [
      "\n",
      "Face Tilt Analysis Complete for C:\\Users\\jitro\\Downloads\\videoplayback.mp4\n",
      "- Duration: 566.90 seconds\n",
      "- Video FPS: 29.97, Target FPS: 1.00 (sampling rate: 1/30)\n",
      "- Frames processed: 148/16990 (26.13%)\n",
      "- Average tilt angle: 7.25° ± 6.36°\n",
      "- Dominant tilt direction: left\n",
      "- Stability score: 6.36 (lower is more stable)\n",
      "- Processing time: 27.58 seconds (615.93 FPS)\n",
      "Mean tilt angle: 7.246178929493753\n",
      "Dominant direction: left\n",
      "Stability score: 6.355465965808448\n",
      "Direction left: 51.35%\n",
      "Direction none: 4.73%\n",
      "Direction right: 43.92%\n"
     ]
    },
    {
     "name": "stderr",
     "output_type": "stream",
     "text": [
      "\n"
     ]
    }
   ],
   "source": [
    "from video_analysis.motion_analyzer.face_motion import FaceMotionAnalyzer\n",
    "\n",
    "analyzer = FaceMotionAnalyzer(min_detection_confidence=0.7, tilt_threshold=5)\n",
    "\n",
    "# Process a video file\n",
    "video_path = r\"C:\\Users\\jitro\\Downloads\\videoplayback.mp4\"\n",
    "stats = analyzer.process_video(\n",
    "    video_path=video_path,\n",
    "    target_fps=1, \n",
    "    show_progress=True\n",
    ")\n",
    "\n",
    "# Work with the returned stats\n",
    "if stats:\n",
    "    # Access various statistics\n",
    "    print(f\"Mean tilt angle: {stats.mean_angle}\")\n",
    "    print(f\"Dominant direction: {stats.dominant_direction}\")\n",
    "    print(f\"Stability score: {stats.stability_score}\")\n",
    "    \n",
    "    # You can access all the properties of the VideoAnalysisStats object\n",
    "    # For example, direction percentages\n",
    "    for direction, percentage in stats.direction_percentages.items():\n",
    "        print(f\"Direction {direction}: {percentage:.2f}%\")"
   ]
  },
  {
   "cell_type": "code",
   "execution_count": 1,
   "metadata": {},
   "outputs": [
    {
     "name": "stderr",
     "output_type": "stream",
     "text": [
      "Processing video: 100%|██████████| 16990/16990 [06:23<00:00, 44.26it/s]"
     ]
    },
    {
     "name": "stdout",
     "output_type": "stream",
     "text": [
      "\n",
      "Gaze Analysis Complete for C:\\Users\\jitro\\Downloads\\videoplayback.mp4\n",
      "- Duration: 566.90 seconds\n",
      "- Original video FPS: 29.97\n",
      "- Target processing FPS: 0.50\n",
      "- Frames processed: 109/287 (37.98%)\n",
      "- Dominant gaze direction: left\n",
      "- Eye contact maintained: 0.00% of detected frames\n",
      "- Direction breakdown: {'left': 100.0}\n",
      "- Processing time: 383.91 seconds (44.26 FPS)\n",
      "Dominant gaze direction: left\n",
      "Detection rate: 37.98%\n",
      "Eye contact percentage: 0.00%\n",
      "Direction left: 100.00%\n"
     ]
    },
    {
     "name": "stderr",
     "output_type": "stream",
     "text": [
      "\n"
     ]
    }
   ],
   "source": [
    "from video_analysis.motion_analyzer.gaze_motion import GazeMotionAnalyzer\n",
    "\n",
    "# Initialize the gaze analyzer\n",
    "analyzer = GazeMotionAnalyzer(min_detection_confidence=0.7)\n",
    "\n",
    "# Process a video file\n",
    "video_path = r\"C:\\Users\\jitro\\Downloads\\videoplayback.mp4\"\n",
    "stats = analyzer.process_video(\n",
    "    video_path=video_path,\n",
    "    target_fps=0.5, \n",
    "    show_progress=True\n",
    ")\n",
    "\n",
    "# Work with the returned stats\n",
    "if stats:\n",
    "    # Access various statistics\n",
    "    print(f\"Dominant gaze direction: {stats.dominant_direction}\")\n",
    "    print(f\"Detection rate: {stats.detection_rate:.2f}%\")\n",
    "    \n",
    "    # Access the eye contact percentage from additional_stats\n",
    "    print(f\"Eye contact percentage: {stats.additional_stats['eye_contact_percentage']:.2f}%\")\n",
    "    \n",
    "    # Print direction percentages\n",
    "    for direction, percentage in stats.direction_percentages.items():\n",
    "        print(f\"Direction {direction}: {percentage:.2f}%\")"
   ]
  },
  {
   "cell_type": "code",
   "execution_count": 1,
   "metadata": {},
   "outputs": [
    {
     "name": "stderr",
     "output_type": "stream",
     "text": [
      "Processing video: 100%|██████████| 16990/16990 [01:08<00:00, 249.21it/s]"
     ]
    },
    {
     "name": "stdout",
     "output_type": "stream",
     "text": [
      "\n",
      "Shoulder Tilt Analysis Complete for C:\\Users\\jitro\\Downloads\\videoplayback.mp4\n",
      "- Duration: 566.90 seconds\n",
      "- Video FPS: 29.97, Target FPS: 0.50 (sampling rate: 1/60)\n",
      "- Frames processed: 277/16990 (97.82%)\n",
      "- Average tilt angle: 16.19° ± 21.58°\n",
      "- Dominant tilt direction: none\n",
      "- Stability score: 21.58 (lower is more stable)\n",
      "- Processing time: 68.19 seconds (249.17 FPS)\n",
      "Mean tilt angle: 16.191523631603275\n",
      "Stability score: 21.582711722555363\n",
      "Dominant tilt direction: none\n",
      "Direction percentages: {'right': 25.27075812274368, 'left': 32.12996389891697, 'none': 42.59927797833935}\n"
     ]
    },
    {
     "name": "stderr",
     "output_type": "stream",
     "text": [
      "\n"
     ]
    }
   ],
   "source": [
    "from video_analysis.motion_analyzer.shoulder_motion import ShoulderMotionAnalyzer\n",
    "analyzer = ShoulderMotionAnalyzer(min_detection_confidence=0.5, tilt_threshold=5)\n",
    "video_path = r\"C:\\Users\\jitro\\Downloads\\videoplayback.mp4\"\n",
    "\n",
    "stats = analyzer.process_video(\n",
    "    video_path=video_path,\n",
    "    target_fps=0.5, \n",
    "    show_progress=True\n",
    ")\n",
    "\n",
    "if stats:\n",
    "    print(f\"Mean tilt angle: {stats.mean_angle}\")\n",
    "    print(f\"Stability score: {stats.stability_score}\")\n",
    "    print(f\"Dominant tilt direction: {stats.dominant_direction}\")\n",
    "    print(f\"Direction percentages: {stats.direction_percentages}\")"
   ]
  },
  {
   "cell_type": "code",
   "execution_count": 2,
   "metadata": {},
   "outputs": [
    {
     "name": "stderr",
     "output_type": "stream",
     "text": [
      "Processing video:   0%|          | 0/16990 [00:00<?, ?it/s]"
     ]
    },
    {
     "name": "stderr",
     "output_type": "stream",
     "text": [
      "Processing video: 100%|██████████| 16990/16990 [00:34<00:00, 496.80it/s]"
     ]
    },
    {
     "name": "stdout",
     "output_type": "stream",
     "text": [
      "\n",
      "Hand Movement Analysis Complete for C:\\Users\\jitro\\Downloads\\videoplayback.mp4\n",
      "- Duration: 566.90 seconds\n",
      "- Original video FPS: 29.97\n",
      "- Target processing FPS: 0.50\n",
      "- Frames processed: 236/287 (82.23%)\n",
      "- Average hand movement: 82.60 pixels per frame\n",
      "- Excessive movement detected in 200 frames (84.75%)\n",
      "- Movement score: 100.00/100\n",
      "- Average hands detected per frame: 1.41\n",
      "- Processing time: 34.21 seconds (496.68 FPS)\n",
      "Movement score: 100/100\n",
      "Excessive movement detected: 84.7% of frames\n"
     ]
    },
    {
     "name": "stderr",
     "output_type": "stream",
     "text": [
      "\n"
     ]
    }
   ],
   "source": [
    "# Import the analyzer\n",
    "from video_analysis.motion_analyzer.hand_motion import HandMotionAnalyzer\n",
    "analyzer = HandMotionAnalyzer()\n",
    "video_path = r\"C:\\Users\\jitro\\Downloads\\videoplayback.mp4\"\n",
    "stats = analyzer.process_video(\n",
    "    video_path=video_path,\n",
    "    target_fps=0.5, \n",
    "    show_progress=True\n",
    ")\n",
    "print(f\"Movement score: {stats.movement_score}/100\")\n",
    "print(f\"Excessive movement detected: {stats.excessive_motion_rate:.1f}% of frames\")"
   ]
  },
  {
   "cell_type": "code",
   "execution_count": 1,
   "metadata": {},
   "outputs": [
    {
     "name": "stderr",
     "output_type": "stream",
     "text": [
      "Processing video: 100%|██████████| 16990/16990 [00:14<00:00, 1139.62it/s]"
     ]
    },
    {
     "name": "stdout",
     "output_type": "stream",
     "text": [
      "\n",
      "Facial Expression Analysis Complete for C:\\Users\\jitro\\Downloads\\videoplayback.mp4\n",
      "- Duration: 566.90 seconds\n",
      "- Video FPS: 29.97, Target FPS: 0.50 (sampling rate: 1/60)\n",
      "- Frames analyzed: 284/16990\n",
      "- Average emotion scores:\n",
      "  - Sad: 55.03%\n",
      "  - Neutral: 18.16%\n",
      "  - Angry: 9.39%\n",
      "  - Happy: 7.45%\n",
      "  - Ahegao: 6.23%\n",
      "  - Surprise: 3.74%\n",
      "EmotionAnalysisResult(emotion_scores={'Ahegao': 17.69671944901347, 'Angry': 26.66737473011017, 'Happy': 21.167773813009262, 'Neutral': 51.569679237902164, 'Sad': 156.2751740962267, 'Surprise': 10.623279867693782}, average_scores={'Ahegao': 0.06231239242610377, 'Angry': 0.09389920679616257, 'Happy': 0.07453441483453965, 'Neutral': 0.18158337759824705, 'Sad': 0.550264697521925, 'Surprise': 0.03740591502709078})\n"
     ]
    },
    {
     "name": "stderr",
     "output_type": "stream",
     "text": [
      "\n"
     ]
    }
   ],
   "source": [
    "from video_analysis.expression_analyzer.expression import FacialExpressionAnalyzer\n",
    "\n",
    "analyzer = FacialExpressionAnalyzer(use_gpu=True)\n",
    "video_path = r\"C:\\Users\\jitro\\Downloads\\videoplayback.mp4\"\n",
    "stats = analyzer.process_video(\n",
    "    video_path=video_path,\n",
    "    target_fps=0.5, \n",
    "    show_progress=True\n",
    ")\n",
    "print(stats)"
   ]
  },
  {
   "cell_type": "code",
   "execution_count": null,
   "metadata": {},
   "outputs": [
    {
     "name": "stdout",
     "output_type": "stream",
     "text": [
      "Successfully tagged: I was, um, thinking that we could, uh, maybe go to the the store later.\n",
      "Successfully tagged: You know what I mean?\n",
      "Successfully tagged: Like, I really need to get some, some stuff for dinner tonight.\n",
      "Successfully tagged: I started to make a list but then I, I forgot what I was, you know, trying to remember.\n",
      "Successfully tagged: So anyways I think we should probab- probably leave soon before it gets too crowded.\n",
      "\n",
      "===== DISFLUENCY ANALYSIS SUMMARY =====\n",
      "Total sentences analyzed: 5\n",
      "Total tokens processed: 79\n",
      "Sentences with disfluencies: 5 (100.0%)\n",
      "Overall disfluency rate: 11.39 per 100 tokens\n",
      "\n",
      "----- DISFLUENCY COUNTS BY TYPE -----\n",
      "  FILLER    : 5\n",
      "  REP       : 3\n",
      "  RESTART   : 1\n",
      "\n",
      "----- DISFLUENCY EXAMPLES -----\n",
      "\n",
      "FILLER examples:\n",
      "  1. Text: \"um\"\n",
      "     Context: \"I was , um , thinking that we could\"\n",
      "  2. Text: \"uh\"\n",
      "     Context: \"thinking that we could , uh , maybe go to the\"\n",
      "  3. Text: \"You know\"\n",
      "     Context: \"You know what I mean ?\"\n",
      "  4. Text: \"Like\"\n",
      "     Context: \"Like , I really need to\"\n",
      "  5. Text: \"you know\"\n",
      "     Context: \"forgot what I was , you know , trying to remember .\"\n",
      "\n",
      "REP examples:\n",
      "  1. Text: \"the the\"\n",
      "     Context: \"uh , maybe go to the the store later .\"\n",
      "  2. Text: \"some\"\n",
      "     Context: \"need to get some , some stuff for dinner tonight .\"\n",
      "  3. Text: \"I\"\n",
      "     Context: \"make a list but then I , I forgot what I\"\n",
      "\n",
      "RESTART examples:\n",
      "  1. Text: \"probab-\"\n",
      "     Context: \"anyways I think we should probab- probably leave soon before it\"\n"
     ]
    }
   ],
   "source": [
    "from audio_analysis.disfluency_analyzer.disfluency import DisfluencyTagger\n",
    "tagger = DisfluencyTagger(api_key=\"GEMINI_API_KEY\")\n",
    "\n",
    "text = \"\"\"I was, um, thinking that we could, uh, maybe go to the the store later. \n",
    "You know what I mean? Like, I really need to get some, some stuff for dinner tonight.\n",
    "I started to make a list but then I, I forgot what I was, you know, trying to remember.\n",
    "So anyways I think we should probab- probably leave soon before it gets too crowded.\"\"\"\n",
    "analysis = tagger.analyze_passage(text)\n",
    "\n",
    "# Print the statistics\n",
    "tagger.print_disfluency_stats(analysis[\"stats\"])\n",
    "\n",
    "# Access the raw results\n",
    "tagged_results = analysis[\"results\"]"
   ]
  },
  {
   "cell_type": "code",
   "execution_count": null,
   "metadata": {},
   "outputs": [
    {
     "name": "stdout",
     "output_type": "stream",
     "text": [
      "Analyzing chunk 1/5...\n",
      "Analyzing chunk 2/5...\n",
      "Analyzing chunk 3/5...\n",
      "Analyzing chunk 4/5...\n",
      "Analyzing chunk 5/5...\n",
      "{\n",
      "  \"presentationAnalysis\": {\n",
      "    \"contentQualityMetrics\": {\n",
      "      \"clarity\": {\n",
      "        \"score\": 7.6,\n",
      "        \"description\": \"How clear and understandable the content is\",\n",
      "        \"positive feedback\": \"The language is straightforward and easy to understand. The concepts are presented in a clear and accessible manner, making it easy for readers to grasp the main ideas.\",\n",
      "        \"negative feedback\": \"While generally clear, the transition between the initial benefits and the 'Getting Started' section could be smoother. A more explicit connection would enhance clarity.\"\n",
      "      },\n",
      "      \"coherence\": {\n",
      "        \"score\": 7.7,\n",
      "        \"description\": \"How well the content flows logically from one point to another\",\n",
      "        \"positive feedback\": \"The content generally flows well, moving from the benefits of urban gardens to practical advice for starting one. The progression from general benefits to specific techniques is logical.\",\n",
      "        \"negative feedback\": \"The transition between the introductory paragraph and the benefits section could be smoother. The use of '##' for the section heading is unconventional and disrupts the flow.\"\n",
      "      },\n",
      "      \"engagement\": {\n",
      "        \"score\": 6.5,\n",
      "        \"description\": \"How captivating and interesting is the content?\",\n",
      "        \"positive feedback\": \"The content is engaging due to its practical advice and the positive framing of urban gardening. The mention of community hubs and psychological benefits adds an element of human interest.\",\n",
      "        \"negative feedback\": \"The writing style is somewhat basic and could benefit from more vivid language or compelling anecdotes to further enhance engagement. It could be more captivating with a stronger narrative element.\"\n",
      "      },\n",
      "      \"relevance\": {\n",
      "        \"score\": 9.2,\n",
      "        \"description\": \"How well does the content stay on topic and provide value?\",\n",
      "        \"positive feedback\": \"The content stays focused on the topic of urban gardening and provides valuable information for beginners, particularly those with limited space. It directly addresses the challenges and offers practical solutions.\",\n",
      "        \"negative feedback\": \"There is very little irrelevant information. The content is highly focused and relevant to the stated topic.\"\n",
      "      },\n",
      "      \"depth\": {\n",
      "        \"score\": 6.4,\n",
      "        \"description\": \"How substantive is the content? Does it provide meaningful insights?\",\n",
      "        \"positive feedback\": \"The content provides some meaningful insights into the benefits of urban gardening and offers practical advice for getting started. It touches on both environmental and social aspects.\",\n",
      "        \"negative feedback\": \"The depth of the information is somewhat limited. It could benefit from more detailed explanations of specific gardening techniques or a deeper exploration of the psychological benefits mentioned.\"\n",
      "      },\n",
      "      \"accuracy\": {\n",
      "        \"score\": 9.8,\n",
      "        \"description\": \"How factually accurate is the content?\",\n",
      "        \"positive feedback\": \"The information presented is factually accurate and aligns with established knowledge about plants, urban gardening, and community benefits.\",\n",
      "        \"negative feedback\": \"While likely accurate, it would benefit from citations or references to support the claims made, especially regarding soil contamination and water conservation techniques.\"\n",
      "      },\n",
      "      \"tone\": {\n",
      "        \"score\": 7.9,\n",
      "        \"description\": \"Is the emotional tone consistent and appropriate?\",\n",
      "        \"positive feedback\": \"The tone is consistently positive, encouraging, and informative, which is appropriate for the topic and target audience.\",\n",
      "        \"negative feedback\": \"The tone shifts abruptly from informative and slightly formal to informal and casual in the last few sentences, creating an inconsistent and inappropriate tone for the overall piece.\"\n",
      "      },\n",
      "      \"conciseness\": {\n",
      "        \"score\": 7.6,\n",
      "        \"description\": \"How efficiently does the content express its ideas?\",\n",
      "        \"positive feedback\": \"The content is generally concise and avoids unnecessary jargon or repetition. It gets straight to the point and provides information efficiently.\",\n",
      "        \"negative feedback\": \"While concise, some sentences could be slightly more streamlined for even greater efficiency. For example, some phrases could be shortened without losing meaning.\"\n",
      "      },\n",
      "      \"readability\": {\n",
      "        \"score\": 8.3,\n",
      "        \"description\": \"How easy is the content to read and comprehend?\",\n",
      "        \"positive feedback\": \"The content is highly readable due to its simple language, short sentences, and clear organization. The use of headings and bullet points (implied by the section break) further enhances readability.\",\n",
      "        \"negative feedback\": \"The informal language in the last few sentences, while intended to improve readability for some, actually detracts from the overall readability for a broader audience and lowers the perceived quality.\"\n",
      "      }\n",
      "    },\n",
      "    \"overallScore\": 7.89,\n",
      "    \"summaryFeedback\": \"The text provides a clear and concise introduction to urban gardening, highlighting its benefits and offering practical advice for beginners. While generally well-written, the flow and depth could be improved to enhance the overall impact.\",\n",
      "    \"recommendedActions\": [\n",
      "      \"Remove informal language and adopt a more professional tone.\",\n",
      "      \"Expand on the benefits of urban gardening with specific examples and data.\",\n",
      "      \"Provide more in-depth analysis of the challenges and complexities of urban gardening.\",\n",
      "      \"Use standard section headings and improve the overall flow of the text.\"\n",
      "    ]\n",
      "  }\n",
      "}\n"
     ]
    }
   ],
   "source": [
    "from audio_analysis.content_analyzer.content import ContentAnalyzer\n",
    "import json\n",
    "\n",
    "analyzer = ContentAnalyzer(api_key=\"GEMINI_API_KEY\")\n",
    "\n",
    "text = \"\"\"# Urban Gardening: Transforming Concrete Jungles into Green Havens\n",
    "\n",
    "In recent years, urban gardening has like, totally revolutionized how city dwellers interact with their environment. As populations continue to grow and urban spaces expand, the need for sustainable practices within cities becomes increasingly important. Urban gardening represents a powerful solution that addresses multiple challenges simultaneously.\n",
    "\n",
    "## Benefits of Urban Gardening\n",
    "\n",
    "Urban gardens provide numerous benefits to communities and individuals. They contribute to food security by enabling residents to grow their own fruits, vegetables, and herbs. This is particularly important in food deserts where access to fresh produce is limited. \n",
    "\n",
    "Additionally, these green spaces help mitigate the urban heat island effect, a phenomenon where cities experience higher temperatures than surrounding rural areas due to concentrated human activities and infrastructure. Plants absorb carbon dioxide and release oxygen, improving air quality in polluted urban environments.\n",
    "\n",
    "Moreover, urban gardens serve as community hubs where people can connect, share knowledge, and build relationships. In our increasingly digital world, these tangible connections with both nature and neighbors offer valuable psychological benefits.\n",
    "\n",
    "## Getting Started with Limited Space\n",
    "\n",
    "You don't need a large yard to start an urban garden! Even small spaces like balconies, windowsills, or community plots can be transformed into productive growing areas.\n",
    "\n",
    "Container gardening is perfect for beginners with limited space. Use recycled containers such as plastic bottles, buckets, or wooden crates to create a sustainable growing environment. Vertical gardening techniques, including trellises, hanging baskets, and wall-mounted planters, maximize space efficiency by growing upward rather than outward.\n",
    "\n",
    "## Challenges and Solutions\n",
    "\n",
    "Urban gardeners face unique challenges, including limited space, pollution, and sometimes restrictive regulations. However, innovative approaches can overcome these obstacles.\n",
    "\n",
    "Soil contamination is a common concern in urban environments. Regular soil testing is essential to identify potential contaminants. Raised beds with clean soil or container gardening can provide safe alternatives if ground soil is unsuitable.\n",
    "\n",
    "Water conservation presents another challenge. Implementing rainwater harvesting systems and using efficient irrigation methods like drip irrigation minimizes water waste. Mulching helps retain soil moisture and reduces the frequency of watering.\n",
    "\n",
    "## Community Impact\n",
    "\n",
    "The impact of urban gardening extends beyond individual benefits. When communities embrace urban gardening, they create resilient local food systems that reduce dependency on long supply chains. This decreased reliance on transported food reduces carbon emissions associated with food transportation.\n",
    "\n",
    "Urban gardens also transform underutilized spaces into productive areas. Vacant lots, rooftops, and even abandoned buildings can be repurposed for growing food and creating green spaces. These transformations not only improve aesthetics but also increase property values and reduce crime rates in some areas.\n",
    "\n",
    "## Future Directions\n",
    "\n",
    "As technology advances, urban gardening continues to evolve. Hydroponic and aquaponic systems enable soil-less growing, which can be particularly valuable in urban environments with limited or contaminated soil. These systems use significantly less water than traditional gardening methods and can produce higher yields in smaller spaces.\n",
    "\n",
    "Smart gardening technologies, including automated irrigation systems, soil sensors, and climate-controlled growing environments, make urban gardening more accessible and efficient. These technologies enable even novice gardeners to succeed by providing real-time data and automated care for plants.\n",
    "\n",
    "In conclusion, urban gardening represents a practical and impactful approach to enhancing sustainability in cities. By transforming concrete jungles into green havens, urban dwellers can contribute to environmental health, food security, and community wellbeing. Whether you have a tiny balcony or access to a community garden, engaging in urban gardening allows you to be part of this important movement toward greener, more sustainable cities.\n",
    "\n",
    "But like, everyone should totally try it, you know? It's super easy to get started and stuff. Just plant some seeds and see what happens!\"\"\"\n",
    "results = analyzer.analyze_content(text)\n",
    "json_output = json.dumps(results, indent=2)\n",
    "print(json_output)"
   ]
  },
  {
   "cell_type": "code",
   "execution_count": null,
   "metadata": {},
   "outputs": [],
   "source": []
  }
 ],
 "metadata": {
  "kernelspec": {
   "display_name": "Python_3_10_16",
   "language": "python",
   "name": "python3"
  },
  "language_info": {
   "codemirror_mode": {
    "name": "ipython",
    "version": 3
   },
   "file_extension": ".py",
   "mimetype": "text/x-python",
   "name": "python",
   "nbconvert_exporter": "python",
   "pygments_lexer": "ipython3",
   "version": "3.10.16"
  }
 },
 "nbformat": 4,
 "nbformat_minor": 2
}
