{
 "cells": [
  {
   "cell_type": "code",
   "execution_count": 1,
   "metadata": {},
   "outputs": [
    {
     "name": "stderr",
     "output_type": "stream",
     "text": [
      "Processing video: 100%|██████████| 16990/16990 [00:14<00:00, 1161.84it/s]"
     ]
    },
    {
     "name": "stdout",
     "output_type": "stream",
     "text": [
      "\n",
      "Body Alignment Analysis Complete for C:\\Users\\jitro\\Downloads\\videoplayback.mp4\n",
      "- Duration: 566.90 seconds\n",
      "- Frames processed: 42/16990 (98.88%)\n",
      "- Average tilt angle: 4.24° ± 4.29°\n",
      "- Dominant tilt direction: left\n",
      "- Stability score: 4.29 (lower is more stable)\n",
      "- Processing time: 14.64 seconds (1160.51 FPS)\n",
      "Mean tilt angle: 4.2363804801097436\n",
      "Dominant direction: left\n",
      "Stability score: 4.285352397885781\n",
      "Direction right: 38.10%\n",
      "Direction left: 57.14%\n",
      "Direction none: 4.76%\n"
     ]
    },
    {
     "name": "stderr",
     "output_type": "stream",
     "text": [
      "\n"
     ]
    }
   ],
   "source": [
    "# Import the analyzer\n",
    "from posture_analysis.motion_analyzer.body_motion import BodyMotionAnalyzer\n",
    "\n",
    "analyzer = BodyMotionAnalyzer(min_detection_confidence=0.7, tilt_threshold=5)\n",
    "\n",
    "# Process a video file\n",
    "video_path = r\"C:\\Users\\jitro\\Downloads\\videoplayback.mp4\"\n",
    "stats = analyzer.process_video(\n",
    "    video_path=video_path,\n",
    "    sampling_rate=400, \n",
    "    show_progress=True  # Shows a progress bar if tqdm is installed\n",
    ")\n",
    "\n",
    "# Work with the returned stats\n",
    "if stats:\n",
    "    # Access various statistics\n",
    "    print(f\"Mean tilt angle: {stats.mean_angle}\")\n",
    "    print(f\"Dominant direction: {stats.dominant_direction}\")\n",
    "    print(f\"Stability score: {stats.stability_score}\")\n",
    "    \n",
    "    # You can access all the properties of the VideoAnalysisStats object\n",
    "    # For example, direction percentages\n",
    "    for direction, percentage in stats.direction_percentages.items():\n",
    "        print(f\"Direction {direction}: {percentage:.2f}%\")"
   ]
  },
  {
   "cell_type": "code",
   "execution_count": 5,
   "metadata": {},
   "outputs": [
    {
     "name": "stderr",
     "output_type": "stream",
     "text": [
      "Processing video: 100%|██████████| 16990/16990 [00:07<00:00, 2191.35it/s]"
     ]
    },
    {
     "name": "stdout",
     "output_type": "stream",
     "text": [
      "\n",
      "Face Tilt Analysis Complete for C:\\Users\\jitro\\Downloads\\videoplayback.mp4\n",
      "- Duration: 566.90 seconds\n",
      "- Frames processed: 11/16990 (25.90%)\n",
      "- Average tilt angle: 4.97° ± 5.10°\n",
      "- Dominant tilt direction: right\n",
      "- Stability score: 5.10 (lower is more stable)\n",
      "- Processing time: 7.76 seconds (2190.27 FPS)\n",
      "Mean tilt angle: 4.969695225585337\n",
      "Dominant direction: right\n",
      "Stability score: 5.096109674659685\n",
      "Direction left: 45.45%\n",
      "Direction right: 54.55%\n"
     ]
    },
    {
     "name": "stderr",
     "output_type": "stream",
     "text": [
      "\n"
     ]
    }
   ],
   "source": [
    "from posture_analysis.motion_analyzer.face_motion import FaceMotionAnalyzer\n",
    "\n",
    "analyzer = FaceMotionAnalyzer(min_detection_confidence=0.7, tilt_threshold=5)\n",
    "\n",
    "# Process a video file\n",
    "video_path = r\"C:\\Users\\jitro\\Downloads\\videoplayback.mp4\"\n",
    "stats = analyzer.process_video(\n",
    "    video_path=video_path,\n",
    "    sampling_rate=400, \n",
    "    show_progress=True  # Shows a progress bar if tqdm is installed\n",
    ")\n",
    "\n",
    "# Work with the returned stats\n",
    "if stats:\n",
    "    # Access various statistics\n",
    "    print(f\"Mean tilt angle: {stats.mean_angle}\")\n",
    "    print(f\"Dominant direction: {stats.dominant_direction}\")\n",
    "    print(f\"Stability score: {stats.stability_score}\")\n",
    "    \n",
    "    # You can access all the properties of the VideoAnalysisStats object\n",
    "    # For example, direction percentages\n",
    "    for direction, percentage in stats.direction_percentages.items():\n",
    "        print(f\"Direction {direction}: {percentage:.2f}%\")"
   ]
  },
  {
   "cell_type": "code",
   "execution_count": 3,
   "metadata": {},
   "outputs": [
    {
     "name": "stderr",
     "output_type": "stream",
     "text": [
      "Processing video:   0%|          | 0/16990 [00:00<?, ?it/s]"
     ]
    },
    {
     "name": "stderr",
     "output_type": "stream",
     "text": [
      "Processing video: 100%|██████████| 16990/16990 [00:56<00:00, 303.21it/s]"
     ]
    },
    {
     "name": "stdout",
     "output_type": "stream",
     "text": [
      "\n",
      "Gaze Analysis Complete for C:\\Users\\jitro\\Downloads\\videoplayback.mp4\n",
      "- Duration: 566.90 seconds\n",
      "- Frames processed: 16/16990 (37.67%)\n",
      "- Dominant gaze direction: left\n",
      "- Eye contact maintained: 0.00% of detected frames\n",
      "- Direction breakdown: {'left': 100.0}\n",
      "- Processing time: 56.04 seconds (303.16 FPS)\n",
      "Dominant gaze direction: left\n",
      "Detection rate: 37.67%\n",
      "Eye contact percentage: 0.00%\n",
      "Direction left: 100.00%\n"
     ]
    },
    {
     "name": "stderr",
     "output_type": "stream",
     "text": [
      "\n"
     ]
    }
   ],
   "source": [
    "from posture_analysis.motion_analyzer.gaze_motion import GazeMotionAnalyzer\n",
    "\n",
    "# Initialize the gaze analyzer\n",
    "gaze_analyzer = GazeMotionAnalyzer(min_detection_confidence=0.7)\n",
    "\n",
    "# Process a video file\n",
    "video_path = r\"C:\\Users\\jitro\\Downloads\\videoplayback.mp4\"\n",
    "stats = gaze_analyzer.process_video(\n",
    "    video_path=video_path,\n",
    "    sampling_rate=400,  # You can adjust this based on your needs\n",
    "    show_progress=True  # Shows a progress bar if tqdm is installed\n",
    ")\n",
    "\n",
    "# Work with the returned stats\n",
    "if stats:\n",
    "    # Access various statistics\n",
    "    print(f\"Dominant gaze direction: {stats.dominant_direction}\")\n",
    "    print(f\"Detection rate: {stats.detection_rate:.2f}%\")\n",
    "    \n",
    "    # Access the eye contact percentage from additional_stats\n",
    "    print(f\"Eye contact percentage: {stats.additional_stats['eye_contact_percentage']:.2f}%\")\n",
    "    \n",
    "    # Print direction percentages\n",
    "    for direction, percentage in stats.direction_percentages.items():\n",
    "        print(f\"Direction {direction}: {percentage:.2f}%\")"
   ]
  },
  {
   "cell_type": "code",
   "execution_count": 4,
   "metadata": {},
   "outputs": [
    {
     "name": "stderr",
     "output_type": "stream",
     "text": [
      "Processing video: 100%|██████████| 16990/16990 [00:14<00:00, 1163.06it/s]"
     ]
    },
    {
     "name": "stdout",
     "output_type": "stream",
     "text": [
      "\n",
      "Shoulder Tilt Analysis Complete for C:\\Users\\jitro\\Downloads\\videoplayback.mp4\n",
      "- Duration: 566.90 seconds\n",
      "- Frames processed: 42/16990 (98.88%)\n",
      "- Average tilt angle: 11.89° ± 15.02°\n",
      "- Dominant tilt direction: none\n",
      "- Stability score: 15.02 (lower is more stable)\n",
      "- Processing time: 14.61 seconds (1162.98 FPS)\n",
      "Mean tilt angle: 11.8881858175514\n",
      "Stability score: 15.021033326637282\n",
      "Dominant tilt direction: none\n",
      "Direction percentages: {'right': 23.809523809523807, 'none': 45.23809523809524, 'left': 30.952380952380953}\n"
     ]
    },
    {
     "name": "stderr",
     "output_type": "stream",
     "text": [
      "\n"
     ]
    }
   ],
   "source": [
    "from posture_analysis.motion_analyzer.shoulder_motion import ShoulderMotionAnalyzer\n",
    "analyzer = ShoulderMotionAnalyzer(min_detection_confidence=0.5, tilt_threshold=5)\n",
    "video_path = r\"C:\\Users\\jitro\\Downloads\\videoplayback.mp4\"\n",
    "\n",
    "stats = analyzer.process_video(\n",
    "    video_path=video_path,\n",
    "    sampling_rate=400, \n",
    "    show_progress=True \n",
    ")\n",
    "\n",
    "if stats:\n",
    "    print(f\"Mean tilt angle: {stats.mean_angle}\")\n",
    "    print(f\"Stability score: {stats.stability_score}\")\n",
    "    print(f\"Dominant tilt direction: {stats.dominant_direction}\")\n",
    "    print(f\"Direction percentages: {stats.direction_percentages}\")"
   ]
  },
  {
   "cell_type": "code",
   "execution_count": null,
   "metadata": {},
   "outputs": [],
   "source": []
  }
 ],
 "metadata": {
  "kernelspec": {
   "display_name": "Python_3_10_16",
   "language": "python",
   "name": "python3"
  },
  "language_info": {
   "codemirror_mode": {
    "name": "ipython",
    "version": 3
   },
   "file_extension": ".py",
   "mimetype": "text/x-python",
   "name": "python",
   "nbconvert_exporter": "python",
   "pygments_lexer": "ipython3",
   "version": "3.10.16"
  }
 },
 "nbformat": 4,
 "nbformat_minor": 2
}
